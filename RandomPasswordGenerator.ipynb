{
 "cells": [
  {
   "cell_type": "markdown",
   "id": "0cd88443",
   "metadata": {},
   "source": [
    "# RandomPasswordGenerator"
   ]
  },
  {
   "cell_type": "code",
   "execution_count": 2,
   "id": "b0bc3c62",
   "metadata": {},
   "outputs": [
    {
     "name": "stdout",
     "output_type": "stream",
     "text": [
      "&1?@B&xx2*s!CH$?\n"
     ]
    }
   ],
   "source": [
    "import random\n",
    "upper_case = \"ABCDEFGHIJKLMNOPQRSTUVWXYZ\"\n",
    "lower_case = \"abcdefghijklmnopqrstuvwxyz\"\n",
    "digit_set = \"1234567890\"\n",
    "special_symbol = \"~!@#$%&*?\"\n",
    "unique_list =[ \"ABCDEFGHIJKLMNOPQRSTUVWXYZ\", \"abcdefghijklmnopqrstuvwxyz\",\"1234567890\", \"~!@#$%&*?\"]\n",
    "password = \"\"\n",
    "for k in range(16):\n",
    "    random_num = random.randint(0,len(unique_list)-1)\n",
    "    random_number = random.randint(0,len(unique_list[random_num])-1)\n",
    "    password += unique_list[random_num][random_number]\n",
    "print(password)\n",
    "\n"
   ]
  },
  {
   "cell_type": "code",
   "execution_count": 5,
   "id": "b879f57b",
   "metadata": {},
   "outputs": [
    {
     "name": "stdout",
     "output_type": "stream",
     "text": [
      "5 3 4 4\n",
      "your password is strong\n"
     ]
    }
   ],
   "source": [
    "password = \"h*Vv$GD49MZ1%&1d\"\n",
    "upper = 0\n",
    "lower = 0\n",
    "digit_set =0\n",
    "special_set = 0\n",
    "for k in password:\n",
    "    if k in upper_case:\n",
    "        upper+=1\n",
    "    elif k in lower_case:\n",
    "        lower += 1\n",
    "    elif k in special_symbol:\n",
    "        special_set+=1\n",
    "    else:\n",
    "        digit_set+=1\n",
    "print(upper, lower, special_set, digit_set)\n",
    "if upper == 0:\n",
    "    if lower == 0:\n",
    "        print(\"to make your password strong please use upper_case and lower_case\")\n",
    "    else:\n",
    "        print(\"to make your password strong please use uppercase\")\n",
    "elif lower==0:\n",
    "    if digit_set==0:\n",
    "        print(\"to make your password strong please use lower_case and digit\")\n",
    "    else:\n",
    "        print(\"to make your password strong please use lowercase\")\n",
    "elif digit_set==0:\n",
    "    if special_set == 0:\n",
    "        print(\"to make your password strong please use digit and special symbol\")\n",
    "    else:\n",
    "        print(\"to make your password strong please use digit\")\n",
    "elif special_set == 0:\n",
    "    print(\"to make your password strong please use special_set\")\n",
    "else:\n",
    "    print(\"your password is strong\")\n",
    "    \n",
    "    "
   ]
  },
  {
   "cell_type": "code",
   "execution_count": null,
   "id": "e38a7ffd",
   "metadata": {},
   "outputs": [],
   "source": []
  }
 ],
 "metadata": {
  "kernelspec": {
   "display_name": "Python 3 (ipykernel)",
   "language": "python",
   "name": "python3"
  },
  "language_info": {
   "codemirror_mode": {
    "name": "ipython",
    "version": 3
   },
   "file_extension": ".py",
   "mimetype": "text/x-python",
   "name": "python",
   "nbconvert_exporter": "python",
   "pygments_lexer": "ipython3",
   "version": "3.11.0"
  }
 },
 "nbformat": 4,
 "nbformat_minor": 5
}
